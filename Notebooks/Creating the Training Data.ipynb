{
 "cells": [
  {
   "cell_type": "markdown",
   "metadata": {},
   "source": [
    "## Creating the Trainng Data\n",
    "\n",
    "In this notebook, we will create the training data to be used by the various models for predicting scores in the NCAA basketball tournament. We will start by generating features from the Kenpom, T-Rank, and basic statistics data. Then, we will use blocking to reduce the training data to only include games that include games between tournament caliber teams. Finally, we will combine data sets to create training data for a kenpom model, T-Rank model, basic statistical model and finally a model that uses all of the available data."
   ]
  },
  {
   "cell_type": "code",
   "execution_count": 1,
   "metadata": {},
   "outputs": [
    {
     "data": {
      "text/plain": [
       "'0.2'"
      ]
     },
     "execution_count": 1,
     "metadata": {},
     "output_type": "execute_result"
    }
   ],
   "source": [
    "# Import packages\n",
    "import sys\n",
    "sys.path.append('/Users/phil/Documents/Documents/College_Basketball')\n",
    "\n",
    "import pandas as pd\n",
    "import collegebasketball as cbb\n",
    "cbb.__version__"
   ]
  },
  {
   "cell_type": "markdown",
   "metadata": {},
   "source": [
    "## Feature Generation\n",
    "\n",
    "Now that we have our data, we need to create some features for the ML algorithms. For each statistical attribute, there is a feature to show the attribute for the favored team, the attribute for the underdog, and the difference between the two. The favored team is defined as the team with a higher AdjEM on kenpom for each dataset. Using this system, a label of '1' represents an upset and a label of '0' means that the favored team won the game.\n",
    "\n",
    "We will create a dataset with these features for each set of statistics (Kenpom, T-Rank, basic) for each year that these stats are available. Additionally, we will create a dataset that includes all three of these sets of statistics in a single data set."
   ]
  },
  {
   "cell_type": "code",
   "execution_count": 2,
   "metadata": {},
   "outputs": [],
   "source": [
    "# Store a dataframe of kenpom data for each year in a list\n",
    "kenpom_season_data = []\n",
    "kenpom_march_data = []\n",
    "TRank_season_data = []\n",
    "TRank_march_data = []\n",
    "stats_season_data = []\n",
    "stats_march_data = []\n",
    "all_season_data = []\n",
    "all_march_data = []\n",
    "\n",
    "# Generate features for each year of data\n",
    "on_cols = ['Favored', 'Underdog', 'Year', 'Win_Loss_Fav', 'Win_Loss', 'Win_Loss_Diff', 'Label']\n",
    "for year in range(2002, 2019):\n",
    "    \n",
    "    # Load combined data for this season\n",
    "    kenpom_season = cbb.load_csv('../Data/Combined_Data/Kenpom/{}_regular_season.csv'.format(year))\n",
    "    if year < 2019:\n",
    "        kenpom_march= cbb.load_csv('../Data/Combined_Data/Kenpom/{}_march.csv'.format(year))\n",
    "    if year > 2007:\n",
    "        TRank_season = cbb.load_csv('../Data/Combined_Data/TRank/{}_regular_season.csv'.format(year))\n",
    "        if year < 2019:\n",
    "            TRank_march = cbb.load_csv('../Data/Combined_Data/TRank/{}_march.csv'.format(year))\n",
    "    if year > 2009:\n",
    "        stats_season = cbb.load_csv('../Data/Combined_Data/Basic/{}_regular_season.csv'.format(year))\n",
    "        if year < 2019:\n",
    "            stats_march = cbb.load_csv('../Data/Combined_Data/Basic/{}_march.csv'.format(year))\n",
    "    \n",
    "    # Generate features for each data set\n",
    "    kenpom_season_data.append(cbb.gen_kenpom_features(kenpom_season))\n",
    "    kenpom_march_data.append(cbb.gen_kenpom_features(kenpom_march))\n",
    "    if year > 2007:\n",
    "        TRank_season_data.append(cbb.gen_TRank_features(TRank_season, kenpom_season))\n",
    "        if year < 2019:\n",
    "            TRank_march_data.append(cbb.gen_TRank_features(TRank_march, kenpom_march))\n",
    "    if year > 2009:\n",
    "        stats_season_data.append(cbb.gen_basic_features(stats_season, kenpom_season))\n",
    "        if year < 2019:\n",
    "            stats_march_data.append(cbb.gen_basic_features(stats_march, kenpom_march))\n",
    "        \n",
    "    # Combine all features into a single data set\n",
    "    if year > 2009:\n",
    "        all_season = kenpom_season_data[-1].merge(TRank_season_data[-1], on=on_cols)\n",
    "        all_season_data.append(all_season.merge(stats_season_data[-1], on=on_cols))\n",
    "        if year < 2019:\n",
    "            all_march = kenpom_march_data[-1].merge(TRank_march_data[-1], on=on_cols)\n",
    "            all_march_data.append(all_march.merge(stats_march_data[-1], on=on_cols))"
   ]
  },
  {
   "cell_type": "code",
   "execution_count": 3,
   "metadata": {},
   "outputs": [],
   "source": [
    "# Combine feature vectors into full training sets\n",
    "kenpom_season = pd.concat(kenpom_season_data)\n",
    "kenpom_march = pd.concat(kenpom_march_data)\n",
    "TRank_season = pd.concat(TRank_season_data)\n",
    "TRank_march = pd.concat(TRank_march_data)\n",
    "stats_season = pd.concat(stats_season_data)\n",
    "stats_march = pd.concat(stats_march_data)\n",
    "all_season = pd.concat(all_season_data)\n",
    "all_march = pd.concat(all_march_data)"
   ]
  },
  {
   "cell_type": "markdown",
   "metadata": {},
   "source": [
    "## Blocking\n",
    "\n",
    "We now have features for every game played in division one from the 2002 season to the 2017 season. However, we can improve the accuracy of our models if we remove results unrealated to our test set. Since the goal of this project is to predict specifically games for the NCAA Tournament, we will remove any games with teams that are not good enough."
   ]
  },
  {
   "cell_type": "code",
   "execution_count": 4,
   "metadata": {},
   "outputs": [
    {
     "name": "stdout",
     "output_type": "stream",
     "text": [
      "We have data for 87926 games.\n",
      "21903 of those games are upsets\n"
     ]
    }
   ],
   "source": [
    "print('We have data for ' + str(len(kenpom_season) + len(kenpom_march)) + ' games.')\n",
    "print(str(len(kenpom_season[kenpom_season['Label'] == 1]) + len(kenpom_march[kenpom_march['Label'] == 1])) + ' of those games are upsets')"
   ]
  },
  {
   "cell_type": "code",
   "execution_count": 5,
   "metadata": {},
   "outputs": [],
   "source": [
    "# Since the blocking rules rely on the Kenpom AdjEM stat, we need to join T-Rank and basic stats data with Kenpom\n",
    "kenpom_AdjEM = kenpom_season.loc[:,['Favored', 'Underdog', 'Year', 'AdjEM_Fav', 'AdjEM', 'AdjEM_Diff']]\n",
    "on_cols = ['Favored', 'Underdog', 'Year']\n",
    "TRank_season = TRank_season.merge(kenpom_AdjEM, on=on_cols)\n",
    "stats_season = stats_season.merge(kenpom_AdjEM, on=on_cols)"
   ]
  },
  {
   "cell_type": "code",
   "execution_count": 6,
   "metadata": {},
   "outputs": [
    {
     "data": {
      "text/plain": [
       "Index(['Favored', 'Underdog', 'Year', 'Win_Loss_Fav', 'Win_Loss',\n",
       "       'Win_Loss_Diff', 'Rk_Fav', 'Rk', 'Rk_Diff', 'AdjOE_Fav',\n",
       "       ...\n",
       "       'WAB_Fav', 'WAB', 'WAB_Diff', 'WAB Rank_Fav', 'WAB Rank',\n",
       "       'WAB Rank_Diff', 'Label', 'AdjEM_Fav', 'AdjEM', 'AdjEM_Diff'],\n",
       "      dtype='object', length=106)"
      ]
     },
     "execution_count": 6,
     "metadata": {},
     "output_type": "execute_result"
    }
   ],
   "source": [
    "TRank_season.columns"
   ]
  },
  {
   "cell_type": "code",
   "execution_count": 7,
   "metadata": {},
   "outputs": [],
   "source": [
    "# Block the feature vector tables for full season data\n",
    "kenpom_season = cbb.block_table(kenpom_season)\n",
    "TRank_season = cbb.block_table(TRank_season)\n",
    "stats_season = cbb.block_table(stats_season)\n",
    "all_season = cbb.block_table(all_season)"
   ]
  },
  {
   "cell_type": "code",
   "execution_count": 8,
   "metadata": {},
   "outputs": [],
   "source": [
    "# Drop the kenpom columns from the TRank and basic stats data sets now that blocking is completed\n",
    "drop_cols = ['AdjEM_Fav', 'AdjEM', 'AdjEM_Diff']\n",
    "TRank_season = TRank_season.drop(drop_cols, axis=1)\n",
    "stats_season = stats_season.drop(drop_cols, axis=1)"
   ]
  },
  {
   "cell_type": "code",
   "execution_count": 9,
   "metadata": {},
   "outputs": [
    {
     "name": "stdout",
     "output_type": "stream",
     "text": [
      "We have data for 60252 games.\n",
      "15928 of those games are upsets\n"
     ]
    }
   ],
   "source": [
    "print('We have data for ' + str(len(kenpom_season) + len(kenpom_march)) + ' games.')\n",
    "print(str(len(kenpom_season[kenpom_season['Label'] == 1]) + len(kenpom_march[kenpom_march['Label'] == 1])) + ' of those games are upsets')"
   ]
  },
  {
   "cell_type": "code",
   "execution_count": 10,
   "metadata": {},
   "outputs": [],
   "source": [
    "# Now save all of the training datasets \n",
    "path = '../Data/Training/'\n",
    "kenpom_season.to_csv('{}kenpom_season.csv'.format(path), index=False)\n",
    "kenpom_march.to_csv('{}kenpom_march.csv'.format(path), index=False)\n",
    "TRank_season.to_csv('{}TRank_season.csv'.format(path), index=False)\n",
    "TRank_march.to_csv('{}TRank_march.csv'.format(path), index=False)\n",
    "stats_season.to_csv('{}stats_season.csv'.format(path), index=False)\n",
    "stats_march.to_csv('{}stats_march.csv'.format(path), index=False)\n",
    "all_season.to_csv('{}all_season.csv'.format(path), index=False)\n",
    "all_march.to_csv('{}all_march.csv'.format(path), index=False)"
   ]
  }
 ],
 "metadata": {
  "kernelspec": {
   "display_name": "Python 3",
   "language": "python",
   "name": "python3"
  },
  "language_info": {
   "codemirror_mode": {
    "name": "ipython",
    "version": 3
   },
   "file_extension": ".py",
   "mimetype": "text/x-python",
   "name": "python",
   "nbconvert_exporter": "python",
   "pygments_lexer": "ipython3",
   "version": "3.6.6"
  }
 },
 "nbformat": 4,
 "nbformat_minor": 2
}
