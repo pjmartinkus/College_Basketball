{
 "cells": [
  {
   "cell_type": "markdown",
   "metadata": {},
   "source": [
    "# Selecting a Model\n",
    "\n",
    "The goal of this notebook is to choose the best model for predicting scores of NCAA Tournament games. We will use the training data to run several machine learning models for our data. Finally, using the results, we select a modle to use for our NCAA Tournament predictions."
   ]
  },
  {
   "cell_type": "code",
   "execution_count": 1,
   "metadata": {},
   "outputs": [],
   "source": [
    "# Import packages\n",
    "import sys\n",
    "sys.path.append('../')\n",
    "\n",
    "import datetime\n",
    "import pandas as pd\n",
    "from sklearn.neighbors import KNeighborsClassifier\n",
    "from sklearn.tree import DecisionTreeClassifier\n",
    "from sklearn.ensemble import RandomForestClassifier\n",
    "from sklearn.linear_model import LogisticRegression\n",
    "\n",
    "import collegebasketball as cbb\n",
    "cbb.__version__"
   ]
  },
  {
   "cell_type": "markdown",
   "metadata": {},
   "source": [
    "## Load the Data\n",
    "\n",
    "First, we need to load the data that we previously retrieved and cleaned. More information about how this was done can be found in the Data Preparation and Cleaning notebook."
   ]
  },
  {
   "cell_type": "code",
   "execution_count": 2,
   "metadata": {},
   "outputs": [
    {
     "name": "stdout",
     "output_type": "stream",
     "text": [
      "Length of kenpom data: 60252\n",
      "Length of TRank data: 63670\n",
      "Length of basis stats data: 36512\n",
      "Length of all data: 21788\n"
     ]
    }
   ],
   "source": [
    "# Load the csv files that contain the scores/kenpom data\n",
    "path = '../Data/Training/'\n",
    "kenpom_season = cbb.load_csv('{}kenpom_season.csv'.format(path))\n",
    "kenpom_march = cbb.load_csv('{}kenpom_march.csv'.format(path))\n",
    "TRank_season = cbb.load_csv('{}TRank_season.csv'.format(path))\n",
    "TRank_march = cbb.load_csv('{}TRank_march.csv'.format(path))\n",
    "stats_season = cbb.load_csv('{}stats_season.csv'.format(path))\n",
    "stats_march = cbb.load_csv('{}stats_march.csv'.format(path))\n",
    "all_season = cbb.load_csv('{}all_season.csv'.format(path))\n",
    "all_march = cbb.load_csv('{}all_march.csv'.format(path))\n",
    "\n",
    "# Get a sense for the size of each data set\n",
    "print('Length of kenpom data: {}'.format(len(kenpom_season) + len(kenpom_march)))\n",
    "print('Length of TRank data: {}'.format(len(TRank_season) + len(TRank_march)))\n",
    "print('Length of basis stats data: {}'.format(len(stats_season) + len(stats_march)))\n",
    "print('Length of all data: {}'.format(len(all_season) + len(all_march)))"
   ]
  },
  {
   "cell_type": "markdown",
   "metadata": {},
   "source": [
    "## Selecting a ML Model\n",
    "\n",
    "Next, we will train the models and test them using the march data to select a ML model that can best predict upsets in the NCAA Tournament for each training data set. We will be choosing between K Nearest Neighbors, Decision Tree, Random Forest, SVM, and Logistic Regression. We will be using classifiers from scikit learn."
   ]
  },
  {
   "cell_type": "code",
   "execution_count": 3,
   "metadata": {},
   "outputs": [],
   "source": [
    "# Create the models\n",
    "knn =  KNeighborsClassifier()\n",
    "dt = DecisionTreeClassifier(min_samples_leaf=5)\n",
    "rf = RandomForestClassifier(n_estimators=100, min_samples_split=5)\n",
    "log = LogisticRegression(penalty='l1', C=10)\n",
    "\n",
    "cls = [knn, dt, rf, log]\n",
    "cl_names = ['KNN', 'Decision Tree', 'Random Forest', 'Logistic Regression']\n",
    "exclude = ['Favored', 'Underdog', 'Year', 'Label']"
   ]
  },
  {
   "cell_type": "code",
   "execution_count": 4,
   "metadata": {},
   "outputs": [
    {
     "data": {
      "text/html": [
       "<div>\n",
       "<style scoped>\n",
       "    .dataframe tbody tr th:only-of-type {\n",
       "        vertical-align: middle;\n",
       "    }\n",
       "\n",
       "    .dataframe tbody tr th {\n",
       "        vertical-align: top;\n",
       "    }\n",
       "\n",
       "    .dataframe thead th {\n",
       "        text-align: right;\n",
       "    }\n",
       "</style>\n",
       "<table border=\"1\" class=\"dataframe\">\n",
       "  <thead>\n",
       "    <tr style=\"text-align: right;\">\n",
       "      <th></th>\n",
       "      <th>Classifier</th>\n",
       "      <th>Precision</th>\n",
       "      <th>Recall</th>\n",
       "      <th>F1</th>\n",
       "      <th>Accuracy</th>\n",
       "    </tr>\n",
       "  </thead>\n",
       "  <tbody>\n",
       "    <tr>\n",
       "      <th>0</th>\n",
       "      <td>KNN</td>\n",
       "      <td>0.383133</td>\n",
       "      <td>0.270869</td>\n",
       "      <td>0.317365</td>\n",
       "      <td>0.686239</td>\n",
       "    </tr>\n",
       "    <tr>\n",
       "      <th>1</th>\n",
       "      <td>Decision Tree</td>\n",
       "      <td>0.329134</td>\n",
       "      <td>0.356048</td>\n",
       "      <td>0.342062</td>\n",
       "      <td>0.631193</td>\n",
       "    </tr>\n",
       "    <tr>\n",
       "      <th>2</th>\n",
       "      <td>Random Forest</td>\n",
       "      <td>0.432039</td>\n",
       "      <td>0.303237</td>\n",
       "      <td>0.356356</td>\n",
       "      <td>0.705046</td>\n",
       "    </tr>\n",
       "    <tr>\n",
       "      <th>3</th>\n",
       "      <td>Logistic Regression</td>\n",
       "      <td>0.547059</td>\n",
       "      <td>0.316865</td>\n",
       "      <td>0.401294</td>\n",
       "      <td>0.745413</td>\n",
       "    </tr>\n",
       "  </tbody>\n",
       "</table>\n",
       "</div>"
      ],
      "text/plain": [
       "            Classifier  Precision    Recall        F1  Accuracy\n",
       "0                  KNN   0.383133  0.270869  0.317365  0.686239\n",
       "1        Decision Tree   0.329134  0.356048  0.342062  0.631193\n",
       "2        Random Forest   0.432039  0.303237  0.356356  0.705046\n",
       "3  Logistic Regression   0.547059  0.316865  0.401294  0.745413"
      ]
     },
     "execution_count": 4,
     "metadata": {},
     "output_type": "execute_result"
    }
   ],
   "source": [
    "# Kenpom Data\n",
    "cbb.evaluate(kenpom_season, kenpom_march, exclude, cls, cl_names)"
   ]
  },
  {
   "cell_type": "code",
   "execution_count": 5,
   "metadata": {},
   "outputs": [
    {
     "data": {
      "text/html": [
       "<div>\n",
       "<style scoped>\n",
       "    .dataframe tbody tr th:only-of-type {\n",
       "        vertical-align: middle;\n",
       "    }\n",
       "\n",
       "    .dataframe tbody tr th {\n",
       "        vertical-align: top;\n",
       "    }\n",
       "\n",
       "    .dataframe thead th {\n",
       "        text-align: right;\n",
       "    }\n",
       "</style>\n",
       "<table border=\"1\" class=\"dataframe\">\n",
       "  <thead>\n",
       "    <tr style=\"text-align: right;\">\n",
       "      <th></th>\n",
       "      <th>Classifier</th>\n",
       "      <th>Precision</th>\n",
       "      <th>Recall</th>\n",
       "      <th>F1</th>\n",
       "      <th>Accuracy</th>\n",
       "    </tr>\n",
       "  </thead>\n",
       "  <tbody>\n",
       "    <tr>\n",
       "      <th>0</th>\n",
       "      <td>KNN</td>\n",
       "      <td>0.331536</td>\n",
       "      <td>0.283410</td>\n",
       "      <td>0.305590</td>\n",
       "      <td>0.643267</td>\n",
       "    </tr>\n",
       "    <tr>\n",
       "      <th>1</th>\n",
       "      <td>Decision Tree</td>\n",
       "      <td>0.319635</td>\n",
       "      <td>0.322581</td>\n",
       "      <td>0.321101</td>\n",
       "      <td>0.622208</td>\n",
       "    </tr>\n",
       "    <tr>\n",
       "      <th>2</th>\n",
       "      <td>Random Forest</td>\n",
       "      <td>0.374558</td>\n",
       "      <td>0.244240</td>\n",
       "      <td>0.295676</td>\n",
       "      <td>0.677728</td>\n",
       "    </tr>\n",
       "    <tr>\n",
       "      <th>3</th>\n",
       "      <td>Logistic Regression</td>\n",
       "      <td>0.362319</td>\n",
       "      <td>0.230415</td>\n",
       "      <td>0.281690</td>\n",
       "      <td>0.674537</td>\n",
       "    </tr>\n",
       "  </tbody>\n",
       "</table>\n",
       "</div>"
      ],
      "text/plain": [
       "            Classifier  Precision    Recall        F1  Accuracy\n",
       "0                  KNN   0.331536  0.283410  0.305590  0.643267\n",
       "1        Decision Tree   0.319635  0.322581  0.321101  0.622208\n",
       "2        Random Forest   0.374558  0.244240  0.295676  0.677728\n",
       "3  Logistic Regression   0.362319  0.230415  0.281690  0.674537"
      ]
     },
     "execution_count": 5,
     "metadata": {},
     "output_type": "execute_result"
    }
   ],
   "source": [
    "# TRank Data\n",
    "cbb.evaluate(TRank_season, TRank_march, exclude, cls, cl_names)"
   ]
  },
  {
   "cell_type": "code",
   "execution_count": 6,
   "metadata": {},
   "outputs": [
    {
     "data": {
      "text/html": [
       "<div>\n",
       "<style scoped>\n",
       "    .dataframe tbody tr th:only-of-type {\n",
       "        vertical-align: middle;\n",
       "    }\n",
       "\n",
       "    .dataframe tbody tr th {\n",
       "        vertical-align: top;\n",
       "    }\n",
       "\n",
       "    .dataframe thead th {\n",
       "        text-align: right;\n",
       "    }\n",
       "</style>\n",
       "<table border=\"1\" class=\"dataframe\">\n",
       "  <thead>\n",
       "    <tr style=\"text-align: right;\">\n",
       "      <th></th>\n",
       "      <th>Classifier</th>\n",
       "      <th>Precision</th>\n",
       "      <th>Recall</th>\n",
       "      <th>F1</th>\n",
       "      <th>Accuracy</th>\n",
       "    </tr>\n",
       "  </thead>\n",
       "  <tbody>\n",
       "    <tr>\n",
       "      <th>0</th>\n",
       "      <td>KNN</td>\n",
       "      <td>0.385827</td>\n",
       "      <td>0.239609</td>\n",
       "      <td>0.295626</td>\n",
       "      <td>0.620016</td>\n",
       "    </tr>\n",
       "    <tr>\n",
       "      <th>1</th>\n",
       "      <td>Decision Tree</td>\n",
       "      <td>0.321321</td>\n",
       "      <td>0.261614</td>\n",
       "      <td>0.288410</td>\n",
       "      <td>0.570382</td>\n",
       "    </tr>\n",
       "    <tr>\n",
       "      <th>2</th>\n",
       "      <td>Random Forest</td>\n",
       "      <td>0.340909</td>\n",
       "      <td>0.036675</td>\n",
       "      <td>0.066225</td>\n",
       "      <td>0.655818</td>\n",
       "    </tr>\n",
       "    <tr>\n",
       "      <th>3</th>\n",
       "      <td>Logistic Regression</td>\n",
       "      <td>0.549451</td>\n",
       "      <td>0.122249</td>\n",
       "      <td>0.200000</td>\n",
       "      <td>0.674532</td>\n",
       "    </tr>\n",
       "  </tbody>\n",
       "</table>\n",
       "</div>"
      ],
      "text/plain": [
       "            Classifier  Precision    Recall        F1  Accuracy\n",
       "0                  KNN   0.385827  0.239609  0.295626  0.620016\n",
       "1        Decision Tree   0.321321  0.261614  0.288410  0.570382\n",
       "2        Random Forest   0.340909  0.036675  0.066225  0.655818\n",
       "3  Logistic Regression   0.549451  0.122249  0.200000  0.674532"
      ]
     },
     "execution_count": 6,
     "metadata": {},
     "output_type": "execute_result"
    }
   ],
   "source": [
    "# Basic Stats Data\n",
    "cbb.evaluate(stats_season, stats_march, exclude, cls, cl_names)"
   ]
  },
  {
   "cell_type": "code",
   "execution_count": 7,
   "metadata": {},
   "outputs": [
    {
     "data": {
      "text/html": [
       "<div>\n",
       "<style scoped>\n",
       "    .dataframe tbody tr th:only-of-type {\n",
       "        vertical-align: middle;\n",
       "    }\n",
       "\n",
       "    .dataframe tbody tr th {\n",
       "        vertical-align: top;\n",
       "    }\n",
       "\n",
       "    .dataframe thead th {\n",
       "        text-align: right;\n",
       "    }\n",
       "</style>\n",
       "<table border=\"1\" class=\"dataframe\">\n",
       "  <thead>\n",
       "    <tr style=\"text-align: right;\">\n",
       "      <th></th>\n",
       "      <th>Classifier</th>\n",
       "      <th>Precision</th>\n",
       "      <th>Recall</th>\n",
       "      <th>F1</th>\n",
       "      <th>Accuracy</th>\n",
       "    </tr>\n",
       "  </thead>\n",
       "  <tbody>\n",
       "    <tr>\n",
       "      <th>0</th>\n",
       "      <td>KNN</td>\n",
       "      <td>0.298429</td>\n",
       "      <td>0.215909</td>\n",
       "      <td>0.250549</td>\n",
       "      <td>0.647727</td>\n",
       "    </tr>\n",
       "    <tr>\n",
       "      <th>1</th>\n",
       "      <td>Decision Tree</td>\n",
       "      <td>0.316860</td>\n",
       "      <td>0.412879</td>\n",
       "      <td>0.358553</td>\n",
       "      <td>0.597107</td>\n",
       "    </tr>\n",
       "    <tr>\n",
       "      <th>2</th>\n",
       "      <td>Random Forest</td>\n",
       "      <td>0.415205</td>\n",
       "      <td>0.268939</td>\n",
       "      <td>0.326437</td>\n",
       "      <td>0.697314</td>\n",
       "    </tr>\n",
       "    <tr>\n",
       "      <th>3</th>\n",
       "      <td>Logistic Regression</td>\n",
       "      <td>0.378378</td>\n",
       "      <td>0.265152</td>\n",
       "      <td>0.311804</td>\n",
       "      <td>0.680785</td>\n",
       "    </tr>\n",
       "  </tbody>\n",
       "</table>\n",
       "</div>"
      ],
      "text/plain": [
       "            Classifier  Precision    Recall        F1  Accuracy\n",
       "0                  KNN   0.298429  0.215909  0.250549  0.647727\n",
       "1        Decision Tree   0.316860  0.412879  0.358553  0.597107\n",
       "2        Random Forest   0.415205  0.268939  0.326437  0.697314\n",
       "3  Logistic Regression   0.378378  0.265152  0.311804  0.680785"
      ]
     },
     "execution_count": 7,
     "metadata": {},
     "output_type": "execute_result"
    }
   ],
   "source": [
    "# All Data\n",
    "cbb.evaluate(all_season, all_march, exclude, cls, cl_names)"
   ]
  },
  {
   "cell_type": "markdown",
   "metadata": {},
   "source": [
    "The results above show that the Logistic Regression Model on just the Kenpom works best. For now, we will just use this model with this data set. In the future, I plan to use multiple models on each of these different data sets weighted by thier performance, but for now we will just use this model."
   ]
  }
 ],
 "metadata": {
  "jupytext": {
   "formats": "ipynb,markdown//md"
  },
  "kernelspec": {
   "display_name": "Python 3",
   "language": "python",
   "name": "python3"
  },
  "language_info": {
   "codemirror_mode": {
    "name": "ipython",
    "version": 3
   },
   "file_extension": ".py",
   "mimetype": "text/x-python",
   "name": "python",
   "nbconvert_exporter": "python",
   "pygments_lexer": "ipython3",
   "version": "3.8.5"
  }
 },
 "nbformat": 4,
 "nbformat_minor": 4
}
