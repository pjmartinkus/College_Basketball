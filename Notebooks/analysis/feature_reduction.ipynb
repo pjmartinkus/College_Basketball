{
 "cells": [
  {
   "cell_type": "markdown",
   "id": "waiting-controversy",
   "metadata": {},
   "source": [
    "# Feature Reduction\n",
    "\n",
    "In this notebook we'll take a look at the features in our training set and try to determine if there are any features we can remove."
   ]
  },
  {
   "cell_type": "code",
   "execution_count": 1,
   "id": "corresponding-precipitation",
   "metadata": {},
   "outputs": [
    {
     "data": {
      "text/plain": [
       "'2022'"
      ]
     },
     "execution_count": 1,
     "metadata": {},
     "output_type": "execute_result"
    }
   ],
   "source": [
    "# Import packages\n",
    "import sys\n",
    "sys.path.append('../../')\n",
    "\n",
    "from collections import defaultdict\n",
    "import matplotlib.pyplot as plt\n",
    "import numpy as np\n",
    "import pandas as pd\n",
    "import seaborn as sns\n",
    "from scipy.cluster import hierarchy\n",
    "from sklearn.ensemble import RandomForestClassifier\n",
    "from sklearn.model_selection import train_test_split\n",
    "\n",
    "import collegebasketball as cbb\n",
    "cbb.__version__"
   ]
  },
  {
   "cell_type": "markdown",
   "id": "outside-blast",
   "metadata": {},
   "source": [
    "### Read in the Training Data\n",
    "\n",
    "To start with, we'll read in the training data and take a quick look at the features. We can see below that there are 263 columns in the data set, and though six of them are not feature, we'll try and determine if all of them are needed in our model. \n",
    "\n",
    "First, we'll read in the full training data set and we'll remove some features that I know are almost identical to other columns in the data. For example, the `AdjOE` feature from the T-Rank data is essentially the same as the `AdjO` feature from the Kenpom data. Generally, we'll keep the Kenpom version of any features that are common across other data sources.\n",
    "\n",
    "Next, we'll further split the data into a training and test set so we can verify that the features we removed don't have too large of an impact on the predictive power of our training data."
   ]
  },
  {
   "cell_type": "code",
   "execution_count": 2,
   "id": "surface-injection",
   "metadata": {},
   "outputs": [
    {
     "data": {
      "text/plain": [
       "Index(['Favored', 'Underdog', 'Year', 'Tournament', 'Win_Loss_Fav', 'Win_Loss',\n",
       "       'Win_Loss_Diff', 'Rank_Fav', 'Rank', 'Rank_Diff',\n",
       "       ...\n",
       "       'TOV_Diff', 'TOV_opp_Fav', 'TOV_opp', 'TOV_opp_Diff', 'PF_Fav', 'PF',\n",
       "       'PF_Diff', 'PF_opp_Fav', 'PF_opp', 'PF_opp_Diff'],\n",
       "      dtype='object', length=263)"
      ]
     },
     "execution_count": 2,
     "metadata": {},
     "output_type": "execute_result"
    }
   ],
   "source": [
    "# Paths to datasets\n",
    "path_dir = '../../Data/Training/large_training.csv'\n",
    "\n",
    "# Read in data\n",
    "df = pd.read_csv(path_dir)\n",
    "df.columns"
   ]
  },
  {
   "cell_type": "code",
   "execution_count": 3,
   "id": "wooden-authentication",
   "metadata": {},
   "outputs": [
    {
     "name": "stdout",
     "output_type": "stream",
     "text": [
      "We have 14050 regular season games and 600 NCAA Tournament games.\n"
     ]
    }
   ],
   "source": [
    "# We want to drop columns that are almost exactly the same before this analysis\n",
    "repeat_cols = ['Barthag', 'AdjOE', 'AdjDE', 'Adj T.', 'WAB', 'MP', 'FG%', 'FG%_opp', '3P%', '3P%_opp']\n",
    "\n",
    "# For this analysis we will not include non-feature, difference or rank columns\n",
    "cols_to_drop = (\n",
    "    ['Favored', 'Underdog', 'Year', 'Tournament', 'Seed_Fav', 'Seed'] + \n",
    "    [col for col in df.columns if '_Diff' in col or 'Rank' in col or 'Rk' in col] +\n",
    "    repeat_cols + [col + '_Fav' for col in repeat_cols]\n",
    ")\n",
    "\n",
    "tourney = cbb.filter_tournament(df).drop(cols_to_drop, axis=1)\n",
    "regular = cbb.filter_tournament(df, drop=True).drop(cols_to_drop, axis=1)\n",
    "\n",
    "print(f'We have {len(regular)} regular season games and {len(tourney)} NCAA Tournament games.')"
   ]
  },
  {
   "cell_type": "code",
   "execution_count": 4,
   "id": "likely-compression",
   "metadata": {},
   "outputs": [
    {
     "name": "stdout",
     "output_type": "stream",
     "text": [
      "There are 10987 games in the training set and 3663 games in the test set.\n"
     ]
    }
   ],
   "source": [
    "# Split into train and test sets with an equal proportion of actual tournament games in each\n",
    "regular_train, regular_test = train_test_split(regular, random_state=77)\n",
    "tourney_train, tourney_test = train_test_split(tourney, random_state=77)\n",
    "\n",
    "train = pd.concat([regular_train, tourney_train])\n",
    "test = pd.concat([regular_test, tourney_test])\n",
    "\n",
    "print(f'There are {len(train)} games in the training set and {len(test)} games in the test set.')"
   ]
  },
  {
   "cell_type": "code",
   "execution_count": 5,
   "id": "floating-grave",
   "metadata": {},
   "outputs": [
    {
     "name": "stdout",
     "output_type": "stream",
     "text": [
      "Accuracy on test data: 0.63\n"
     ]
    }
   ],
   "source": [
    "clf = RandomForestClassifier(n_estimators=100, random_state=77)\n",
    "clf.fit(train.drop('Label', axis=1), train['Label'])\n",
    "print(\"Accuracy on test data: {:.2f}\".format(clf.score(test.drop('Label', axis=1), test['Label'])))"
   ]
  },
  {
   "cell_type": "markdown",
   "id": "public-township",
   "metadata": {},
   "source": [
    "We can see that we get an accuracy of 63% when using all of the features from the training data to train a simple random forest model to predict on the test set. After we remove any additional features, we'll run train another model with the reduced data set and test it again to make sure we don't negatively impact performance.\n",
    "\n",
    "### Examine Correlated Features\n",
    "\n",
    "We know that there's some overlap between the features from the different data sources, with some being exact copies and others being highly correlated. We've already removed some obviously similar features already, but next we'll take a closer look at the correlation among the remaining features to try and find more redundancies. We'll take a look at a visualization of the correlation matrix between the features as well as the pairs of features with the highest magnitude of correlation to help determine which features we can remove without losing too much predictive signal. We can also use clustering methods to cluster features into groups to help us understand if groups of features - not just pairs - are all similar.\n",
    "\n",
    "To help simplify this process, we'll only be looking at the features for team considered the underdog. We'll assume that the correlation between features for the favorite follow a similar pattern - that is, if `EFG%` (effective field goal percentage of the underdog) is highly correlated with `2P%` (2 pointer shooting percentage for the underdog), then we will assume the same correlation applies to those two statistics for the favored team."
   ]
  },
  {
   "cell_type": "code",
   "execution_count": 6,
   "id": "focal-collect",
   "metadata": {},
   "outputs": [
    {
     "name": "stdout",
     "output_type": "stream",
     "text": [
      "50 50\n"
     ]
    }
   ],
   "source": [
    "# Split features in to features for favorite team and those for the underdog\n",
    "cols_fav = [col for col in train.columns if '_Fav' in col]\n",
    "X_fav = train[cols_fav]\n",
    "X_under = train.drop(cols_fav + ['Label'], axis=1)\n",
    "y = train['Label']\n",
    "\n",
    "print(len(X_fav.columns), len(X_under.columns))"
   ]
  },
  {
   "cell_type": "code",
   "execution_count": 7,
   "id": "acoustic-looking",
   "metadata": {},
   "outputs": [
    {
     "data": {
      "text/plain": [
       "<AxesSubplot:>"
      ]
     },
     "execution_count": 7,
     "metadata": {},
     "output_type": "execute_result"
    },
    {
     "data": {
      "image/png": "[encoded data removed]",
      "text/plain": [
       "<Figure size 1080x720 with 2 Axes>"
      ]
     },
     "metadata": {
      "needs_background": "light"
     },
     "output_type": "display_data"
    }
   ],
   "source": [
    "# Since the plots look very similar, we'll just show the plot for the underdog features\n",
    "f, ax = plt.subplots(figsize=(15, 10))\n",
    "corr = X_under.corr()\n",
    "sns.heatmap(corr, mask=np.zeros_like(corr, dtype=bool), \n",
    "            cmap=sns.diverging_palette(220, 10, as_cmap=True),\n",
    "            square=True, ax=ax)"
   ]
  },
  {
   "cell_type": "code",
   "execution_count": 8,
   "id": "current-bradford",
   "metadata": {},
   "outputs": [
    {
     "data": {
      "text/plain": [
       "FTA_opp   FT_opp     0.970643\n",
       "3P        3PA        0.944258\n",
       "FTA_opp   PF         0.923485\n",
       "FT        FTA        0.921855\n",
       "3PA_opp   3P_opp     0.921456\n",
       "OppAdjEM  OppO       0.916816\n",
       "ORB_x     ORB_y      0.914303\n",
       "FG        Tm.        0.911577\n",
       "TORD      TOV_opp    0.910326\n",
       "FTA_opp   FTRD       0.908711\n",
       "dtype: float64"
      ]
     },
     "execution_count": 8,
     "metadata": {},
     "output_type": "execute_result"
    }
   ],
   "source": [
    "# Let's take a closer look at feature correlations \n",
    "corr_list = X_under.corr().stack()\n",
    "\n",
    "# Remove correlation of a feature to itself and duplicates\n",
    "corr_list = corr_list[(corr_list.index.get_level_values(0) != corr_list.index.get_level_values(1)) &\n",
    "                      (corr_list.index.get_level_values(0) < corr_list.index.get_level_values(1))]\n",
    "\n",
    "# See top correlation by magnitude\n",
    "corr_list.apply(abs).sort_values(ascending=False).head(10)"
   ]
  },
  {
   "cell_type": "code",
   "execution_count": 9,
   "id": "identified-samuel",
   "metadata": {},
   "outputs": [
    {
     "name": "stdout",
     "output_type": "stream",
     "text": [
      "['AdjEM', 'OppAdjEM', 'OppO', 'OppD']\n",
      "['AdjT', 'FGA']\n",
      "['EFG%', '2P%']\n",
      "['EFGD%', '2P%D']\n",
      "['ORB_x', 'ORB_y']\n",
      "['DRB', 'ORB_opp']\n",
      "['Tm.', 'FG']\n",
      "['3P', '3PA']\n",
      "['3P_opp', '3PA_opp']\n",
      "['FT', 'FTA', 'PF_opp']\n",
      "['FT_opp', 'FTA_opp', 'PF']\n",
      "['STL', 'TOV_opp']\n",
      "['STL_opp', 'TOV']\n"
     ]
    }
   ],
   "source": [
    "# Cluster features based on correlation magnitude\n",
    "corr_linkage = hierarchy.ward(X_under.corr().apply(abs))\n",
    "cluster_ids = hierarchy.fcluster(corr_linkage, 1, criterion='distance')\n",
    "\n",
    "# Show clusters with more than one feature\n",
    "cluster_id_to_features = defaultdict(list)\n",
    "for idx, cluster_id in enumerate(cluster_ids):\n",
    "    feat = X_under.columns[idx]\n",
    "    cluster_id_to_features[cluster_id].append(feat)\n",
    "    \n",
    "for k in cluster_id_to_features:\n",
    "    if len(cluster_id_to_features[k]) > 1:\n",
    "        print(cluster_id_to_features[k])"
   ]
  },
  {
   "cell_type": "markdown",
   "id": "upper-satisfaction",
   "metadata": {},
   "source": [
    "### Remove Unecessary Features\n",
    "\n",
    "From the correlation values, we can see that many of the features are highly correlated. By removing features that are highly correlated with at least one feature we are keeping, we can reduce complexity without losing too much additional information that the could have provided. There are a few patterns in the correlation of features above:\n",
    "\n",
    "1. There are some cases where we have one feature to describe the offense and another feature that describes essentially the same thing from the opposing team's perspective. For example, the `FT` feature and `PF_opp` feature are really both representative of how often the underdog gets fouled. Sure, there are some small differences between the two - you can get fouled without it resulting in free throws - but to help reduce that complexity we'll sacrifice any small bits of information the extra feature could have provided.\n",
    "2. We often have groups of features from the Sports Reference data set that represent successes, attempts, and success rate. For example, `3P` is the number of made three pointers, `3PA` is the number of threes attempted and `3P%` is the percentage of three pointers made. Since we have the number of attempts and the success rate, the number of successes is redundant and we can remove these features.\n",
    "3. There are some features from the Sports Reference that are not tempo adjusted that are representative of the same thing as a tempo adjusted version in one of the other two data sets. For exmaple, `TOV` is the number of turnovers, but we have the tempo adjusted version `TOR` from the T-Rank data that is both more accurate and less correlated with the tempo feature.\n",
    "4. Lastly, there are a couple pairs of features that are very similar to each other that were not removed early. For example, `FGA` and the team's tempo are essentially giving the same information - how many possessions a team gets per game. \n",
    "\n",
    "Let's remove the features described above and take another look at some of those correlation metrics from earlier to see how things have changed."
   ]
  },
  {
   "cell_type": "code",
   "execution_count": 10,
   "id": "antique-triple",
   "metadata": {},
   "outputs": [
    {
     "data": {
      "text/plain": [
       "Index(['Win_Loss', 'AdjEM', 'AdjO', 'AdjD', 'AdjT', 'Luck', 'OppAdjEM',\n",
       "       'NCSOS AdjEM', 'TOR', 'TORD', 'ORB_x', 'DRB', 'FTR', 'FTRD', '2P%',\n",
       "       '2P%D', '3P%D', '3PA', '3PA_opp', 'FT%', 'FT%_opp', 'AST', 'AST_opp',\n",
       "       'BLK', 'BLK_opp'],\n",
       "      dtype='object')"
      ]
     },
     "execution_count": 10,
     "metadata": {},
     "output_type": "execute_result"
    }
   ],
   "source": [
    "# Remove features where we don't need offensive and defensive numbers \n",
    "feats_to_remove = ['FTA_opp', 'PF_opp', 'OppO', 'OppD']\n",
    "\n",
    "# Remove features that give a success number\n",
    "feats_to_remove = feats_to_remove + ['FG', 'FG_opp', '3P', '3P_opp', 'FT', 'FT_opp', 'Tm.']\n",
    "\n",
    "# Remove absolute stats when we have tempo adjusted version\n",
    "feats_to_remove = feats_to_remove + ['FTA', 'TOV', 'TOV_opp', 'ORB_y', 'ORB_opp', 'TRB', \n",
    "                                     'TRB_opp', 'PF', 'STL', 'STL_opp']\n",
    "\n",
    "# Remove features that are too similar to another\n",
    "feats_to_remove = feats_to_remove + ['FGA', 'FGA_opp', 'EFG%', 'EFGD%']\n",
    "\n",
    "X_under_reduced = X_under.drop(feats_to_remove, axis=1)\n",
    "X_under_reduced.columns"
   ]
  },
  {
   "cell_type": "code",
   "execution_count": 11,
   "id": "fabulous-skirt",
   "metadata": {},
   "outputs": [
    {
     "data": {
      "text/plain": [
       "<AxesSubplot:>"
      ]
     },
     "execution_count": 11,
     "metadata": {},
     "output_type": "execute_result"
    },
    {
     "data": {
      "image/png": "[encoded data removed]",
      "text/plain": [
       "<Figure size 1080x720 with 2 Axes>"
      ]
     },
     "metadata": {
      "needs_background": "light"
     },
     "output_type": "display_data"
    }
   ],
   "source": [
    "f, ax = plt.subplots(figsize=(15, 10))\n",
    "corr = X_under_reduced.corr()\n",
    "sns.heatmap(corr, mask=np.zeros_like(corr, dtype=bool), \n",
    "            cmap=sns.diverging_palette(220, 10, as_cmap=True),\n",
    "            square=True, ax=ax)"
   ]
  },
  {
   "cell_type": "code",
   "execution_count": 12,
   "id": "responsible-british",
   "metadata": {},
   "outputs": [
    {
     "data": {
      "text/plain": [
       "51"
      ]
     },
     "execution_count": 12,
     "metadata": {},
     "output_type": "execute_result"
    }
   ],
   "source": [
    "feats_to_remove_all = feats_to_remove + ['ORB_Fav_y'] + [col + '_Fav' for col in feats_to_remove]\n",
    "feats_to_remove_all.remove('ORB_y_Fav')\n",
    "train_reduced = train.drop(feats_to_remove_all, axis=1, errors='ignore')\n",
    "test_reduced = test.drop(feats_to_remove_all, axis=1, errors='ignore')\n",
    "\n",
    "X_train_reduced = train_reduced.drop('Label', axis=1)\n",
    "y_train_reduced = train_reduced['Label']\n",
    "X_test_reduced = test_reduced.drop('Label', axis=1)\n",
    "y_test_reduced = test_reduced['Label']\n",
    "\n",
    "len(train_reduced.columns)"
   ]
  },
  {
   "cell_type": "code",
   "execution_count": 13,
   "id": "frank-cattle",
   "metadata": {},
   "outputs": [
    {
     "data": {
      "text/plain": [
       "AdjEM      OppAdjEM        0.841530\n",
       "AdjEM_Fav  AdjO_Fav        0.805684\n",
       "AdjD_Fav   AdjEM_Fav       0.769037\n",
       "AdjEM_Fav  OppAdjEM_Fav    0.751956\n",
       "AdjEM      AdjO            0.742372\n",
       "           AdjEM_Fav       0.732197\n",
       "AdjD       AdjEM           0.730107\n",
       "AdjEM_Fav  Win_Loss_Fav    0.691730\n",
       "2P%D_Fav   AdjD_Fav        0.687705\n",
       "2P%D       AdjD            0.652386\n",
       "dtype: float64"
      ]
     },
     "execution_count": 13,
     "metadata": {},
     "output_type": "execute_result"
    }
   ],
   "source": [
    "corr_list_reduced = X_train_reduced.corr().stack()\n",
    "\n",
    "# Remove correlation of a feature to itself and duplicates\n",
    "corr_list_reduced = corr_list_reduced[\n",
    "    (corr_list_reduced.index.get_level_values(0) != corr_list_reduced.index.get_level_values(1)) &\n",
    "    (corr_list_reduced.index.get_level_values(0) < corr_list_reduced.index.get_level_values(1))\n",
    "]\n",
    "\n",
    "# See top correlation by magnitude\n",
    "corr_list_reduced.apply(abs).sort_values(ascending=False).head(10)"
   ]
  },
  {
   "cell_type": "code",
   "execution_count": 14,
   "id": "separated-limit",
   "metadata": {},
   "outputs": [
    {
     "name": "stdout",
     "output_type": "stream",
     "text": [
      "['AdjEM_Fav', 'AdjEM', 'OppAdjEM_Fav', 'OppAdjEM']\n",
      "['AdjD_Fav', '2P%D_Fav']\n",
      "['AdjT_Fav', '3PA_opp_Fav']\n",
      "['AdjT', '3PA_opp', 'AST_opp']\n",
      "['2P%_Fav', 'AST_Fav']\n",
      "['2P%', 'AST']\n"
     ]
    }
   ],
   "source": [
    "# Cluster features based on correlation magnitude\n",
    "corr_linkage = hierarchy.ward(X_train_reduced.corr().apply(abs))\n",
    "cluster_ids = hierarchy.fcluster(corr_linkage, 1, criterion='distance')\n",
    "\n",
    "# Show clusters with more than one feature\n",
    "cluster_id_to_features = defaultdict(list)\n",
    "for idx, cluster_id in enumerate(cluster_ids):\n",
    "    feat = X_train_reduced.columns[idx]\n",
    "    cluster_id_to_features[cluster_id].append(feat)\n",
    "    \n",
    "for k in cluster_id_to_features:\n",
    "    if len(cluster_id_to_features[k]) > 1:\n",
    "        print(cluster_id_to_features[k])"
   ]
  },
  {
   "cell_type": "markdown",
   "id": "worst-tonight",
   "metadata": {},
   "source": [
    "### Test how a Model Performs with the Reduced Feature Set\n",
    "\n",
    "From the correlation matrix, we can clearly see that the number of correlated features has been reduced dramatically. Hopefully we'll be able to create a simpler model that still has relatively the same predictive power with this reduced set of features. \n",
    "\n",
    "You might notice that there are still a couple of features in the data that are pretty highly correlated that I decided to keep in the set of features. Notably, I kept the `AdjEM` feature (overall team efficiency) in addition to both the defensive and offensive efficiency numbers. I felt that these features were all too important to exclude any of them, though you could definitely make an argument that the overall efficiency can easily be derived from the other two features. Another set of features that were pretty closely linked were team efficiency stats and features related to strength of schedule. Overall, better teams tend to play harder schedules so it makes sense, but I felt that these features still provided enough of a different look at the teams so I decided to keep them.\n",
    "\n",
    "Next, we'll test out the reduced feature data with a random forest classifier to help confirm that we haven't removed too much important information that the model needed. Below, we can see that we get the same 63% accuracy on our reduced test set. While we didn't increase accuracy, I still think the reduced feature training data will help us build a more robust model for making NCAA Tournament predictions later on."
   ]
  },
  {
   "cell_type": "code",
   "execution_count": 15,
   "id": "opposed-still",
   "metadata": {},
   "outputs": [
    {
     "name": "stdout",
     "output_type": "stream",
     "text": [
      "Accuracy on test data: 0.63\n"
     ]
    }
   ],
   "source": [
    "clf = RandomForestClassifier(n_estimators=100, random_state=77)\n",
    "clf.fit(X_train_reduced, y_train_reduced)\n",
    "print(\"Accuracy on test data: {:.2f}\".format(clf.score(X_test_reduced, y_test_reduced)))"
   ]
  },
  {
   "cell_type": "code",
   "execution_count": 16,
   "id": "opposed-think",
   "metadata": {},
   "outputs": [
    {
     "data": {
      "text/html": [
       "<div>\n",
       "<style scoped>\n",
       "    .dataframe tbody tr th:only-of-type {\n",
       "        vertical-align: middle;\n",
       "    }\n",
       "\n",
       "    .dataframe tbody tr th {\n",
       "        vertical-align: top;\n",
       "    }\n",
       "\n",
       "    .dataframe thead th {\n",
       "        text-align: right;\n",
       "    }\n",
       "</style>\n",
       "<table border=\"1\" class=\"dataframe\">\n",
       "  <thead>\n",
       "    <tr style=\"text-align: right;\">\n",
       "      <th></th>\n",
       "      <th>Favored</th>\n",
       "      <th>Underdog</th>\n",
       "      <th>Year</th>\n",
       "      <th>Tournament</th>\n",
       "      <th>Win_Loss_Fav</th>\n",
       "      <th>Win_Loss</th>\n",
       "      <th>AdjEM_Fav</th>\n",
       "      <th>AdjEM</th>\n",
       "      <th>AdjO_Fav</th>\n",
       "      <th>AdjO</th>\n",
       "      <th>...</th>\n",
       "      <th>FT%_opp_Fav</th>\n",
       "      <th>FT%_opp</th>\n",
       "      <th>AST_Fav</th>\n",
       "      <th>AST</th>\n",
       "      <th>AST_opp_Fav</th>\n",
       "      <th>AST_opp</th>\n",
       "      <th>BLK_Fav</th>\n",
       "      <th>BLK</th>\n",
       "      <th>BLK_opp_Fav</th>\n",
       "      <th>BLK_opp</th>\n",
       "    </tr>\n",
       "  </thead>\n",
       "  <tbody>\n",
       "    <tr>\n",
       "      <th>0</th>\n",
       "      <td>UNC</td>\n",
       "      <td>William &amp; Mary</td>\n",
       "      <td>2010</td>\n",
       "      <td>NIT</td>\n",
       "      <td>0.540541</td>\n",
       "      <td>0.666667</td>\n",
       "      <td>13.39</td>\n",
       "      <td>6.58</td>\n",
       "      <td>107.4</td>\n",
       "      <td>110.0</td>\n",
       "      <td>...</td>\n",
       "      <td>0.699</td>\n",
       "      <td>0.681</td>\n",
       "      <td>15.594595</td>\n",
       "      <td>14.030303</td>\n",
       "      <td>14.378378</td>\n",
       "      <td>13.151515</td>\n",
       "      <td>5.675676</td>\n",
       "      <td>2.545455</td>\n",
       "      <td>4.486486</td>\n",
       "      <td>3.333333</td>\n",
       "    </tr>\n",
       "    <tr>\n",
       "      <th>1</th>\n",
       "      <td>Wake Forest</td>\n",
       "      <td>UNC</td>\n",
       "      <td>2010</td>\n",
       "      <td>NaN</td>\n",
       "      <td>0.645161</td>\n",
       "      <td>0.540541</td>\n",
       "      <td>14.12</td>\n",
       "      <td>13.39</td>\n",
       "      <td>107.1</td>\n",
       "      <td>107.4</td>\n",
       "      <td>...</td>\n",
       "      <td>0.687</td>\n",
       "      <td>0.699</td>\n",
       "      <td>11.903226</td>\n",
       "      <td>15.594595</td>\n",
       "      <td>11.419355</td>\n",
       "      <td>14.378378</td>\n",
       "      <td>5.225806</td>\n",
       "      <td>5.675676</td>\n",
       "      <td>3.903226</td>\n",
       "      <td>4.486486</td>\n",
       "    </tr>\n",
       "    <tr>\n",
       "      <th>2</th>\n",
       "      <td>UNC</td>\n",
       "      <td>Nevada</td>\n",
       "      <td>2010</td>\n",
       "      <td>NaN</td>\n",
       "      <td>0.540541</td>\n",
       "      <td>0.617647</td>\n",
       "      <td>13.39</td>\n",
       "      <td>10.20</td>\n",
       "      <td>107.4</td>\n",
       "      <td>112.8</td>\n",
       "      <td>...</td>\n",
       "      <td>0.699</td>\n",
       "      <td>0.713</td>\n",
       "      <td>15.594595</td>\n",
       "      <td>14.117647</td>\n",
       "      <td>14.378378</td>\n",
       "      <td>15.029412</td>\n",
       "      <td>5.675676</td>\n",
       "      <td>4.382353</td>\n",
       "      <td>4.486486</td>\n",
       "      <td>2.588235</td>\n",
       "    </tr>\n",
       "    <tr>\n",
       "      <th>3</th>\n",
       "      <td>Syracuse</td>\n",
       "      <td>UNC</td>\n",
       "      <td>2010</td>\n",
       "      <td>NaN</td>\n",
       "      <td>0.857143</td>\n",
       "      <td>0.540541</td>\n",
       "      <td>27.62</td>\n",
       "      <td>13.39</td>\n",
       "      <td>118.5</td>\n",
       "      <td>107.4</td>\n",
       "      <td>...</td>\n",
       "      <td>0.637</td>\n",
       "      <td>0.699</td>\n",
       "      <td>19.228571</td>\n",
       "      <td>15.594595</td>\n",
       "      <td>15.514286</td>\n",
       "      <td>14.378378</td>\n",
       "      <td>6.314286</td>\n",
       "      <td>5.675676</td>\n",
       "      <td>2.285714</td>\n",
       "      <td>4.486486</td>\n",
       "    </tr>\n",
       "    <tr>\n",
       "      <th>4</th>\n",
       "      <td>Dayton</td>\n",
       "      <td>UNC</td>\n",
       "      <td>2010</td>\n",
       "      <td>NIT</td>\n",
       "      <td>0.675676</td>\n",
       "      <td>0.540541</td>\n",
       "      <td>18.92</td>\n",
       "      <td>13.39</td>\n",
       "      <td>108.1</td>\n",
       "      <td>107.4</td>\n",
       "      <td>...</td>\n",
       "      <td>0.657</td>\n",
       "      <td>0.699</td>\n",
       "      <td>14.702703</td>\n",
       "      <td>15.594595</td>\n",
       "      <td>11.135135</td>\n",
       "      <td>14.378378</td>\n",
       "      <td>3.459459</td>\n",
       "      <td>5.675676</td>\n",
       "      <td>3.162162</td>\n",
       "      <td>4.486486</td>\n",
       "    </tr>\n",
       "  </tbody>\n",
       "</table>\n",
       "<p>5 rows × 55 columns</p>\n",
       "</div>"
      ],
      "text/plain": [
       "       Favored        Underdog  Year Tournament  Win_Loss_Fav  Win_Loss  \\\n",
       "0          UNC  William & Mary  2010        NIT      0.540541  0.666667   \n",
       "1  Wake Forest             UNC  2010        NaN      0.645161  0.540541   \n",
       "2          UNC          Nevada  2010        NaN      0.540541  0.617647   \n",
       "3     Syracuse             UNC  2010        NaN      0.857143  0.540541   \n",
       "4       Dayton             UNC  2010        NIT      0.675676  0.540541   \n",
       "\n",
       "   AdjEM_Fav  AdjEM  AdjO_Fav   AdjO  ...  FT%_opp_Fav  FT%_opp    AST_Fav  \\\n",
       "0      13.39   6.58     107.4  110.0  ...        0.699    0.681  15.594595   \n",
       "1      14.12  13.39     107.1  107.4  ...        0.687    0.699  11.903226   \n",
       "2      13.39  10.20     107.4  112.8  ...        0.699    0.713  15.594595   \n",
       "3      27.62  13.39     118.5  107.4  ...        0.637    0.699  19.228571   \n",
       "4      18.92  13.39     108.1  107.4  ...        0.657    0.699  14.702703   \n",
       "\n",
       "         AST  AST_opp_Fav    AST_opp   BLK_Fav       BLK  BLK_opp_Fav  \\\n",
       "0  14.030303    14.378378  13.151515  5.675676  2.545455     4.486486   \n",
       "1  15.594595    11.419355  14.378378  5.225806  5.675676     3.903226   \n",
       "2  14.117647    14.378378  15.029412  5.675676  4.382353     4.486486   \n",
       "3  15.594595    15.514286  14.378378  6.314286  5.675676     2.285714   \n",
       "4  15.594595    11.135135  14.378378  3.459459  5.675676     3.162162   \n",
       "\n",
       "    BLK_opp  \n",
       "0  3.333333  \n",
       "1  4.486486  \n",
       "2  2.588235  \n",
       "3  4.486486  \n",
       "4  4.486486  \n",
       "\n",
       "[5 rows x 55 columns]"
      ]
     },
     "execution_count": 16,
     "metadata": {},
     "output_type": "execute_result"
    }
   ],
   "source": [
    "# Save all the training data to a csv - including identifier columns\n",
    "training_data = pd.concat([train_reduced , test_reduced], ignore_index=False)\n",
    "training_data = df[['Favored', 'Underdog', 'Year', 'Tournament']].join(training_data)\n",
    "training_data.to_csv('../../Data/Training/training_feat_reduced.csv', index=False)\n",
    "training_data.head()"
   ]
  }
 ],
 "metadata": {
  "jupytext": {
   "formats": "ipynb,markdown//md"
  },
  "kernelspec": {
   "display_name": "Python 3",
   "language": "python",
   "name": "python3"
  },
  "language_info": {
   "codemirror_mode": {
    "name": "ipython",
    "version": 3
   },
   "file_extension": ".py",
   "mimetype": "text/x-python",
   "name": "python",
   "nbconvert_exporter": "python",
   "pygments_lexer": "ipython3",
   "version": "3.7.9"
  },
  "toc-autonumbering": false,
  "toc-showcode": false,
  "toc-showmarkdowntxt": false,
  "toc-showtags": true
 },
 "nbformat": 4,
 "nbformat_minor": 5
}
