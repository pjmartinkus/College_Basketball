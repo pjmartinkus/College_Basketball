{
 "cells": [
  {
   "cell_type": "code",
   "execution_count": 1,
   "metadata": {},
   "outputs": [],
   "source": [
    "# Import packages\n",
    "import sys\n",
    "sys.path.append('/Users/phil/Documents/Documents/College_Basketball')\n",
    "\n",
    "import pandas as pd\n",
    "import collegebasketball as cbb\n",
    "cbb.__version__\n",
    "\n",
    "import warnings\n",
    "warnings.filterwarnings('ignore')"
   ]
  },
  {
   "cell_type": "code",
   "execution_count": 2,
   "metadata": {},
   "outputs": [
    {
     "name": "stdout",
     "output_type": "stream",
     "text": [
      "Length of kenpom data: 60252\n",
      "Length of TRank data: 63670\n",
      "Length of basis stats data: 36512\n",
      "Length of all data: 21788\n"
     ]
    }
   ],
   "source": [
    "# Load the csv files that contain the scores/kenpom data\n",
    "path = '../Data/Training/'\n",
    "kenpom_season = cbb.load_csv('{}kenpom_season.csv'.format(path))\n",
    "kenpom_march = cbb.load_csv('{}kenpom_march.csv'.format(path))\n",
    "TRank_season = cbb.load_csv('{}TRank_season.csv'.format(path))\n",
    "TRank_march = cbb.load_csv('{}TRank_march.csv'.format(path))\n",
    "stats_season = cbb.load_csv('{}stats_season.csv'.format(path))\n",
    "stats_march = cbb.load_csv('{}stats_march.csv'.format(path))\n",
    "all_season = cbb.load_csv('{}all_season.csv'.format(path))\n",
    "all_march = cbb.load_csv('{}all_march.csv'.format(path))\n",
    "\n",
    "# Get a sense for the size of each data set\n",
    "print('Length of kenpom data: {}'.format(len(kenpom_season) + len(kenpom_march)))\n",
    "print('Length of TRank data: {}'.format(len(TRank_season) + len(TRank_march)))\n",
    "print('Length of basis stats data: {}'.format(len(stats_season) + len(stats_march)))\n",
    "print('Length of all data: {}'.format(len(all_season) + len(all_march)))"
   ]
  },
  {
   "cell_type": "code",
   "execution_count": 68,
   "metadata": {},
   "outputs": [
    {
     "data": {
      "text/plain": [
       "50"
      ]
     },
     "execution_count": 68,
     "metadata": {},
     "output_type": "execute_result"
    }
   ],
   "source": [
    "len(stats_season[stats_season['Underdog'] == 'Saint Mary\\'s'])"
   ]
  },
  {
   "cell_type": "code",
   "execution_count": 3,
   "metadata": {},
   "outputs": [],
   "source": [
    "rf = cbb.RandomForestClassifier(n_estimators=100, min_samples_split=5)\n",
    "name = 'Random Forest'\n",
    "exclude = ['Favored', 'Underdog', 'Year', 'Label']"
   ]
  },
  {
   "cell_type": "code",
   "execution_count": 4,
   "metadata": {},
   "outputs": [
    {
     "data": {
      "text/html": [
       "<div>\n",
       "<style scoped>\n",
       "    .dataframe tbody tr th:only-of-type {\n",
       "        vertical-align: middle;\n",
       "    }\n",
       "\n",
       "    .dataframe tbody tr th {\n",
       "        vertical-align: top;\n",
       "    }\n",
       "\n",
       "    .dataframe thead th {\n",
       "        text-align: right;\n",
       "    }\n",
       "</style>\n",
       "<table border=\"1\" class=\"dataframe\">\n",
       "  <thead>\n",
       "    <tr style=\"text-align: right;\">\n",
       "      <th></th>\n",
       "      <th>Classifier</th>\n",
       "      <th>Precision</th>\n",
       "      <th>Recall</th>\n",
       "      <th>F1</th>\n",
       "      <th>Accuracy</th>\n",
       "    </tr>\n",
       "  </thead>\n",
       "  <tbody>\n",
       "    <tr>\n",
       "      <th>0</th>\n",
       "      <td>2010</td>\n",
       "      <td>0.333333</td>\n",
       "      <td>0.115385</td>\n",
       "      <td>0.171429</td>\n",
       "      <td>0.756303</td>\n",
       "    </tr>\n",
       "    <tr>\n",
       "      <th>1</th>\n",
       "      <td>2011</td>\n",
       "      <td>0.363636</td>\n",
       "      <td>0.129032</td>\n",
       "      <td>0.190476</td>\n",
       "      <td>0.721311</td>\n",
       "    </tr>\n",
       "    <tr>\n",
       "      <th>2</th>\n",
       "      <td>2012</td>\n",
       "      <td>0.500000</td>\n",
       "      <td>0.241379</td>\n",
       "      <td>0.325581</td>\n",
       "      <td>0.733945</td>\n",
       "    </tr>\n",
       "    <tr>\n",
       "      <th>3</th>\n",
       "      <td>2013</td>\n",
       "      <td>0.416667</td>\n",
       "      <td>0.194805</td>\n",
       "      <td>0.265487</td>\n",
       "      <td>0.723333</td>\n",
       "    </tr>\n",
       "    <tr>\n",
       "      <th>4</th>\n",
       "      <td>2014</td>\n",
       "      <td>0.500000</td>\n",
       "      <td>0.500000</td>\n",
       "      <td>0.500000</td>\n",
       "      <td>0.800000</td>\n",
       "    </tr>\n",
       "    <tr>\n",
       "      <th>5</th>\n",
       "      <td>2015</td>\n",
       "      <td>0.571429</td>\n",
       "      <td>0.444444</td>\n",
       "      <td>0.500000</td>\n",
       "      <td>0.750000</td>\n",
       "    </tr>\n",
       "    <tr>\n",
       "      <th>6</th>\n",
       "      <td>2016</td>\n",
       "      <td>0.250000</td>\n",
       "      <td>0.500000</td>\n",
       "      <td>0.333333</td>\n",
       "      <td>0.800000</td>\n",
       "    </tr>\n",
       "    <tr>\n",
       "      <th>7</th>\n",
       "      <td>2017</td>\n",
       "      <td>0.350000</td>\n",
       "      <td>0.194444</td>\n",
       "      <td>0.250000</td>\n",
       "      <td>0.681818</td>\n",
       "    </tr>\n",
       "    <tr>\n",
       "      <th>8</th>\n",
       "      <td>2018</td>\n",
       "      <td>0.562500</td>\n",
       "      <td>0.173077</td>\n",
       "      <td>0.264706</td>\n",
       "      <td>0.596774</td>\n",
       "    </tr>\n",
       "  </tbody>\n",
       "</table>\n",
       "</div>"
      ],
      "text/plain": [
       "   Classifier  Precision    Recall        F1  Accuracy\n",
       "0        2010   0.333333  0.115385  0.171429  0.756303\n",
       "1        2011   0.363636  0.129032  0.190476  0.721311\n",
       "2        2012   0.500000  0.241379  0.325581  0.733945\n",
       "3        2013   0.416667  0.194805  0.265487  0.723333\n",
       "4        2014   0.500000  0.500000  0.500000  0.800000\n",
       "5        2015   0.571429  0.444444  0.500000  0.750000\n",
       "6        2016   0.250000  0.500000  0.333333  0.800000\n",
       "7        2017   0.350000  0.194444  0.250000  0.681818\n",
       "8        2018   0.562500  0.173077  0.264706  0.596774"
      ]
     },
     "execution_count": 4,
     "metadata": {},
     "output_type": "execute_result"
    }
   ],
   "source": [
    "result, data = cbb.leave_march_out_cv(season, march, exclude, rf)\n",
    "result"
   ]
  },
  {
   "cell_type": "code",
   "execution_count": 5,
   "metadata": {},
   "outputs": [
    {
     "data": {
      "image/png": "[encoded data removed]",
      "text/plain": [
       "<Figure size 432x288 with 1 Axes>"
      ]
     },
     "metadata": {
      "needs_background": "light"
     },
     "output_type": "display_data"
    }
   ],
   "source": [
    "cbb.probability_hist(data, 20, 0.4, 0.6, 'accuracy')"
   ]
  },
  {
   "cell_type": "code",
   "execution_count": null,
   "metadata": {},
   "outputs": [],
   "source": []
  },
  {
   "cell_type": "code",
   "execution_count": null,
   "metadata": {},
   "outputs": [],
   "source": []
  },
  {
   "cell_type": "code",
   "execution_count": null,
   "metadata": {},
   "outputs": [],
   "source": []
  }
 ],
 "metadata": {
  "kernelspec": {
   "display_name": "Python 3",
   "language": "python",
   "name": "python3"
  },
  "language_info": {
   "codemirror_mode": {
    "name": "ipython",
    "version": 3
   },
   "file_extension": ".py",
   "mimetype": "text/x-python",
   "name": "python",
   "nbconvert_exporter": "python",
   "pygments_lexer": "ipython3",
   "version": "3.6.1"
  }
 },
 "nbformat": 4,
 "nbformat_minor": 2
}
