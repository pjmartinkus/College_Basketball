{
 "cells": [
  {
   "cell_type": "code",
   "execution_count": 1,
   "metadata": {},
   "outputs": [
    {
     "data": {
      "text/plain": [
       "'0.1'"
      ]
     },
     "execution_count": 1,
     "metadata": {},
     "output_type": "execute_result"
    }
   ],
   "source": [
    "# Import packages\n",
    "import sys\n",
    "sys.path.append('/Users/phil/Documents/Documents/College Basketball')\n",
    "\n",
    "import datetime\n",
    "import collegebasketball as cbb\n",
    "cbb.__version__"
   ]
  },
  {
   "cell_type": "code",
   "execution_count": 5,
   "metadata": {},
   "outputs": [],
   "source": [
    "scores = cbb.load_csv('/Users/phil/Documents/Documents/College Basketball/Data/Scores/2002_regular_season.csv')\n",
    "kenpom = cbb.load_csv('/Users/phil/Documents/Documents/College Basketball/Data/Kenpom/2002_kenpom.csv')"
   ]
  },
  {
   "cell_type": "code",
   "execution_count": 6,
   "metadata": {},
   "outputs": [
    {
     "data": {
      "text/html": [
       "<div>\n",
       "<style>\n",
       "    .dataframe thead tr:only-child th {\n",
       "        text-align: right;\n",
       "    }\n",
       "\n",
       "    .dataframe thead th {\n",
       "        text-align: left;\n",
       "    }\n",
       "\n",
       "    .dataframe tbody tr th {\n",
       "        vertical-align: top;\n",
       "    }\n",
       "</style>\n",
       "<table border=\"1\" class=\"dataframe\">\n",
       "  <thead>\n",
       "    <tr style=\"text-align: right;\">\n",
       "      <th></th>\n",
       "      <th>Rank</th>\n",
       "      <th>Team</th>\n",
       "      <th>Conf</th>\n",
       "      <th>Wins</th>\n",
       "      <th>Losses</th>\n",
       "      <th>AdjEM</th>\n",
       "      <th>AdjO</th>\n",
       "      <th>AdjO Rank</th>\n",
       "      <th>AdjD</th>\n",
       "      <th>AdjD Rank</th>\n",
       "      <th>...</th>\n",
       "      <th>Luck</th>\n",
       "      <th>Luck Rank</th>\n",
       "      <th>OppAdjEM</th>\n",
       "      <th>OppAdjEM Rank</th>\n",
       "      <th>OppO</th>\n",
       "      <th>OppO Rank</th>\n",
       "      <th>OppD</th>\n",
       "      <th>OppD Rank</th>\n",
       "      <th>NCSOS AdjEM</th>\n",
       "      <th>NCSOS AdjEM Rank</th>\n",
       "    </tr>\n",
       "  </thead>\n",
       "  <tbody>\n",
       "    <tr>\n",
       "      <th>235</th>\n",
       "      <td>236</td>\n",
       "      <td>Tennessee State</td>\n",
       "      <td>OVC</td>\n",
       "      <td>9</td>\n",
       "      <td>17</td>\n",
       "      <td>-6.77</td>\n",
       "      <td>103.2</td>\n",
       "      <td>156</td>\n",
       "      <td>110.0</td>\n",
       "      <td>286</td>\n",
       "      <td>...</td>\n",
       "      <td>-0.034</td>\n",
       "      <td>242</td>\n",
       "      <td>-2.01</td>\n",
       "      <td>201</td>\n",
       "      <td>103.7</td>\n",
       "      <td>163</td>\n",
       "      <td>105.7</td>\n",
       "      <td>245</td>\n",
       "      <td>4.11</td>\n",
       "      <td>74</td>\n",
       "    </tr>\n",
       "  </tbody>\n",
       "</table>\n",
       "<p>1 rows × 22 columns</p>\n",
       "</div>"
      ],
      "text/plain": [
       "     Rank             Team Conf  Wins  Losses  AdjEM   AdjO  AdjO Rank   AdjD  \\\n",
       "235   236  Tennessee State  OVC     9      17  -6.77  103.2        156  110.0   \n",
       "\n",
       "     AdjD Rank        ...          Luck  Luck Rank  OppAdjEM  OppAdjEM Rank  \\\n",
       "235        286        ...        -0.034        242     -2.01            201   \n",
       "\n",
       "      OppO  OppO Rank   OppD  OppD Rank  NCSOS AdjEM  NCSOS AdjEM Rank  \n",
       "235  103.7        163  105.7        245         4.11                74  \n",
       "\n",
       "[1 rows x 22 columns]"
      ]
     },
     "execution_count": 6,
     "metadata": {},
     "output_type": "execute_result"
    }
   ],
   "source": [
    "new_kenpom = cbb.update_kenpom(kenpom)\n",
    "new_kenpom[new_kenpom['Team'] == 'Tennessee State']"
   ]
  },
  {
   "cell_type": "code",
   "execution_count": 8,
   "metadata": {},
   "outputs": [
    {
     "name": "stdout",
     "output_type": "stream",
     "text": [
      "[]\n",
      "['Gardner-Webb', 'Texas A&M-Corpus Christi', 'IPFW', 'Birmingham-Southern', 'Lipscomb', 'Savannah State']\n"
     ]
    }
   ],
   "source": [
    "list = []\n",
    "for row in scores.itertuples():\n",
    "    match = False\n",
    "    for row_k in new_kenpom.itertuples():\n",
    "        if row[2] == row_k[2]:\n",
    "            match = True\n",
    "    if not match and row[2] not in list:\n",
    "        list.append(row[2])\n",
    "print(list)\n",
    "\n",
    "list = []\n",
    "for row_k in new_kenpom.itertuples():\n",
    "    match = False\n",
    "    for row in scores.itertuples():\n",
    "        if row[1] == row_k[2]:\n",
    "            match = True\n",
    "    if not match and row_k[2] not in list:\n",
    "        list.append(row_k[2])\n",
    "        \n",
    "print(list)"
   ]
  },
  {
   "cell_type": "code",
   "execution_count": 10,
   "metadata": {},
   "outputs": [
    {
     "data": {
      "text/html": [
       "<div>\n",
       "<style>\n",
       "    .dataframe thead tr:only-child th {\n",
       "        text-align: right;\n",
       "    }\n",
       "\n",
       "    .dataframe thead th {\n",
       "        text-align: left;\n",
       "    }\n",
       "\n",
       "    .dataframe tbody tr th {\n",
       "        vertical-align: top;\n",
       "    }\n",
       "</style>\n",
       "<table border=\"1\" class=\"dataframe\">\n",
       "  <thead>\n",
       "    <tr style=\"text-align: right;\">\n",
       "      <th></th>\n",
       "      <th>Home</th>\n",
       "      <th>Away</th>\n",
       "      <th>Home_Score</th>\n",
       "      <th>Away_Score</th>\n",
       "    </tr>\n",
       "  </thead>\n",
       "  <tbody>\n",
       "  </tbody>\n",
       "</table>\n",
       "</div>"
      ],
      "text/plain": [
       "Empty DataFrame\n",
       "Columns: [Home, Away, Home_Score, Away_Score]\n",
       "Index: []"
      ]
     },
     "execution_count": 10,
     "metadata": {},
     "output_type": "execute_result"
    }
   ],
   "source": [
    "scores[scores['Home'] == 'Gardner Webb']"
   ]
  },
  {
   "cell_type": "code",
   "execution_count": null,
   "metadata": {
    "collapsed": true
   },
   "outputs": [],
   "source": []
  }
 ],
 "metadata": {
  "kernelspec": {
   "display_name": "Python 2",
   "language": "python",
   "name": "python2"
  },
  "language_info": {
   "codemirror_mode": {
    "name": "ipython",
    "version": 2
   },
   "file_extension": ".py",
   "mimetype": "text/x-python",
   "name": "python",
   "nbconvert_exporter": "python",
   "pygments_lexer": "ipython2",
   "version": "2.7.13"
  }
 },
 "nbformat": 4,
 "nbformat_minor": 2
}
